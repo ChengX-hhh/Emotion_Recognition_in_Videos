{
 "cells": [
  {
   "cell_type": "code",
   "execution_count": 9,
   "id": "1b814305",
   "metadata": {
    "ExecuteTime": {
     "end_time": "2023-05-02T01:34:26.252370Z",
     "start_time": "2023-05-02T01:34:26.245921Z"
    }
   },
   "outputs": [],
   "source": [
    "import glob\n",
    "import random\n",
    "import pandas as pd\n",
    "import numpy as np\n",
    "\n",
    "import torch, os\n",
    "from PIL import Image\n",
    "from ultralytics import YOLO\n",
    "import cv2"
   ]
  },
  {
   "cell_type": "code",
   "execution_count": 3,
   "id": "8a945cf0",
   "metadata": {
    "ExecuteTime": {
     "end_time": "2023-04-28T16:28:50.439070Z",
     "start_time": "2023-04-28T16:28:35.361309Z"
    }
   },
   "outputs": [
    {
     "name": "stderr",
     "output_type": "stream",
     "text": [
      "Downloading https://github.com/ultralytics/assets/releases/download/v0.0.0/yolov8n.pt to yolov8n.pt...\n",
      "100%|██████████████████████████████████████| 6.23M/6.23M [00:03<00:00, 2.14MB/s]\n"
     ]
    }
   ],
   "source": [
    "model = YOLO('yolov8n.pt')"
   ]
  },
  {
   "cell_type": "code",
   "execution_count": 4,
   "id": "5746d0b7",
   "metadata": {
    "ExecuteTime": {
     "end_time": "2023-05-02T01:30:33.994107Z",
     "start_time": "2023-05-02T01:30:33.951933Z"
    }
   },
   "outputs": [],
   "source": [
    "sample = glob.glob('random_sample/*.png')"
   ]
  },
  {
   "cell_type": "code",
   "execution_count": 8,
   "id": "38655549-e482-4f0e-9081-4fe9503b250f",
   "metadata": {
    "ExecuteTime": {
     "end_time": "2023-05-02T01:33:12.774480Z",
     "start_time": "2023-05-02T01:33:11.080879Z"
    }
   },
   "outputs": [
    {
     "name": "stderr",
     "output_type": "stream",
     "text": [
      "\n",
      "image 1/1 /run/user/1004/gvfs/smb-share:server=172.22.125.26,share=chengxi/DL/心理与行为大数据应用竞赛/github-code/ContextRecognition/random_sample/06-55.png: 384x640 3 persons, 1 tie, 14.9ms\n",
      "Speed: 19.2ms preprocess, 14.9ms inference, 2.0ms postprocess per image at shape (1, 3, 640, 640)\n",
      "\n",
      "image 1/1 /run/user/1004/gvfs/smb-share:server=172.22.125.26,share=chengxi/DL/心理与行为大数据应用竞赛/github-code/ContextRecognition/random_sample/02-35.png: 384x640 3 persons, 9.0ms\n",
      "Speed: 3.2ms preprocess, 9.0ms inference, 1.5ms postprocess per image at shape (1, 3, 640, 640)\n",
      "\n",
      "image 1/1 /run/user/1004/gvfs/smb-share:server=172.22.125.26,share=chengxi/DL/心理与行为大数据应用竞赛/github-code/ContextRecognition/random_sample/07-70.png: 384x640 4 persons, 1 bottle, 1 cup, 1 chair, 1 tv, 2 laptops, 10.5ms\n",
      "Speed: 3.3ms preprocess, 10.5ms inference, 1.4ms postprocess per image at shape (1, 3, 640, 640)\n",
      "\n",
      "image 1/1 /run/user/1004/gvfs/smb-share:server=172.22.125.26,share=chengxi/DL/心理与行为大数据应用竞赛/github-code/ContextRecognition/random_sample/08-50.png: 384x640 5 persons, 9.7ms\n",
      "Speed: 3.3ms preprocess, 9.7ms inference, 1.4ms postprocess per image at shape (1, 3, 640, 640)\n"
     ]
    }
   ],
   "source": [
    "objects_df = pd.DataFrame(index=range(4),columns = ['image_id','objects'])\n",
    "count = 0\n",
    "for child_path in sample:\n",
    "    #child = child_path.split('/')[-2]\n",
    "    image_id = child_path.split('/')[-1]\n",
    "    \n",
    "    results = model(child_path)\n",
    "    res_plotted = results[0].plot()\n",
    "    cv2.imwrite('results/yolov8/detect_'+image_id, res_plotted)\n",
    "    \n",
    "    objects = [results[0].names[int(i)] for i in results[0].boxes.cls]\n",
    "    objects_df.iloc[count,:] = [image_id,objects]\n",
    "    count = count + 1"
   ]
  },
  {
   "cell_type": "code",
   "execution_count": 6,
   "id": "bda1daf1",
   "metadata": {
    "ExecuteTime": {
     "end_time": "2023-05-02T01:32:06.518450Z",
     "start_time": "2023-05-02T01:32:06.485541Z"
    }
   },
   "outputs": [],
   "source": [
    "objects_df.to_csv('objects_df_yolov8.csv')"
   ]
  },
  {
   "cell_type": "markdown",
   "id": "63a793ce",
   "metadata": {},
   "source": [
    "Based on rules, correspond the recognized objects to contexts."
   ]
  }
 ],
 "metadata": {
  "kernelspec": {
   "display_name": "mypytorch",
   "language": "python",
   "name": "mypytorch"
  },
  "language_info": {
   "codemirror_mode": {
    "name": "ipython",
    "version": 3
   },
   "file_extension": ".py",
   "mimetype": "text/x-python",
   "name": "python",
   "nbconvert_exporter": "python",
   "pygments_lexer": "ipython3",
   "version": "3.7.13"
  },
  "toc": {
   "base_numbering": 1,
   "nav_menu": {},
   "number_sections": true,
   "sideBar": false,
   "skip_h1_title": false,
   "title_cell": "Table of Contents",
   "title_sidebar": "Contents",
   "toc_cell": false,
   "toc_position": {
    "height": "211px",
    "left": "928.8px",
    "top": "90px",
    "width": "550.2px"
   },
   "toc_section_display": true,
   "toc_window_display": true
  }
 },
 "nbformat": 4,
 "nbformat_minor": 5
}
