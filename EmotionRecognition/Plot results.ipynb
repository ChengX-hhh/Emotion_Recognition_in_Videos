{
 "cells": [
  {
   "cell_type": "code",
   "execution_count": 2,
   "id": "e59a4629",
   "metadata": {
    "ExecuteTime": {
     "end_time": "2023-04-18T07:52:26.963423Z",
     "start_time": "2023-04-18T07:52:26.857Z"
    }
   },
   "outputs": [],
   "source": [
    "library(ggplot2)\n",
    "library(openxlsx)\n",
    "library(tidyverse)\n",
    "library(reshape)"
   ]
  },
  {
   "cell_type": "code",
   "execution_count": 3,
   "id": "8a15749c",
   "metadata": {
    "ExecuteTime": {
     "end_time": "2023-04-18T07:52:56.597465Z",
     "start_time": "2023-04-18T07:52:56.576Z"
    }
   },
   "outputs": [],
   "source": [
    "context.color = c('context1'='#15C4C8','context2'='#7CAE02','context3'='#F98880')\n",
    "variable.color = c(\"anger\"=\"#E40615\",\"disgust\"=\"#8E77AE\",\"fear\"=\"#01973F\",\n",
    "                    \"happy\"=\"#F3CF0E\",\"sad\"=\"#2C82C5\",\"surprised\"=\"#FA8B2B\",\n",
    "                    \"neutral\"=\"#7F7F7F\")"
   ]
  },
  {
   "cell_type": "code",
   "execution_count": 4,
   "id": "270c5ddd",
   "metadata": {
    "ExecuteTime": {
     "end_time": "2023-04-18T07:53:27.517091Z",
     "start_time": "2023-04-18T07:53:27.496Z"
    }
   },
   "outputs": [],
   "source": [
    "plot = function(character){\n",
    "    character_melt = melt(character,id.vars=('context'))\n",
    "    colnames(character_melt)[1] <- c(\"context\")\n",
    "    character_melt$'context'=factor(character_melt$'context')\n",
    "    # Set a number of 'empty bar' to add at the end of each group\n",
    "    empty_bar <- 4\n",
    "    to_add <- data.frame(\n",
    "      variable = rep(NA, empty_bar * nlevels(character_melt$context)),\n",
    "      context = rep(levels(character_melt$context), each = empty_bar),\n",
    "      value = rep(NA, empty_bar * nlevels(character_melt$context))\n",
    "    )\n",
    "    data <- rbind(character_melt, to_add)\n",
    "\n",
    "\n",
    "    data <- data %>% arrange(context)\n",
    "    data$'id' = seq(1, nrow(data))\n",
    "    head(data)\n",
    "\n",
    "    options(repr.plot.width=15,repr.plot.height=15)\n",
    "\n",
    "    # Get the name and the y position of each label\n",
    "    label_data <- data\n",
    "    number_of_bar <- nrow(label_data)\n",
    "    angle <- 90 - 360 * (label_data$id-0.5) /number_of_bar   \n",
    "    label_data$hjust <- ifelse( angle < -90, 1, 0)\n",
    "    label_data$angle <- ifelse(angle < -90, angle+180, angle)\n",
    "\n",
    "\n",
    "    ggplot(data, aes(x=as.factor(id), y=value, color=context,fill=variable)) +  \n",
    "      geom_bar(stat=\"identity\", alpha=0.5,size=2) +\n",
    "      scale_color_manual(values=context.color) + \n",
    "      scale_fill_manual(values=variable.color)+\n",
    "      ylim(-100,100) +\n",
    "      theme_minimal() +\n",
    "      theme(\n",
    "        legend.position = \"none\",\n",
    "        axis.text = element_blank(),\n",
    "        axis.title = element_blank(),\n",
    "        panel.grid = element_blank(),\n",
    "        plot.margin = unit(rep(-1,4), \"cm\") \n",
    "      ) +\n",
    "      coord_polar()+\n",
    "      geom_text(data=label_data, aes(x=id, y=value+10, label=variable, hjust=hjust), \n",
    "                color=\"black\", fontface=\"bold\",alpha=0.6, size=7, \n",
    "                angle= label_data$angle, inherit.aes = FALSE )\n",
    "    }"
   ]
  },
  {
   "cell_type": "code",
   "execution_count": 5,
   "id": "a8362cd8",
   "metadata": {
    "ExecuteTime": {
     "end_time": "2023-04-18T07:54:33.350519Z",
     "start_time": "2023-04-18T07:54:32.058Z"
    }
   },
   "outputs": [
    {
     "data": {
      "text/html": [
       "<table class=\"dataframe\">\n",
       "<caption>A data.frame: 3 × 8</caption>\n",
       "<thead>\n",
       "\t<tr><th></th><th scope=col>context</th><th scope=col>anger</th><th scope=col>disgust</th><th scope=col>fear</th><th scope=col>happy</th><th scope=col>sad</th><th scope=col>surprised</th><th scope=col>neutral</th></tr>\n",
       "\t<tr><th></th><th scope=col>&lt;chr&gt;</th><th scope=col>&lt;dbl&gt;</th><th scope=col>&lt;dbl&gt;</th><th scope=col>&lt;dbl&gt;</th><th scope=col>&lt;dbl&gt;</th><th scope=col>&lt;dbl&gt;</th><th scope=col>&lt;dbl&gt;</th><th scope=col>&lt;dbl&gt;</th></tr>\n",
       "</thead>\n",
       "<tbody>\n",
       "\t<tr><th scope=row>1</th><td>context1</td><td>18.18182</td><td>0</td><td>0</td><td>12.12121</td><td>66.66667</td><td>0</td><td>  3.030303</td></tr>\n",
       "\t<tr><th scope=row>2</th><td>context2</td><td>90.00000</td><td>0</td><td>0</td><td> 0.00000</td><td>10.00000</td><td>0</td><td>  0.000000</td></tr>\n",
       "\t<tr><th scope=row>3</th><td>context3</td><td> 0.00000</td><td>0</td><td>0</td><td> 0.00000</td><td> 0.00000</td><td>0</td><td>100.000000</td></tr>\n",
       "</tbody>\n",
       "</table>\n"
      ],
      "text/latex": [
       "A data.frame: 3 × 8\n",
       "\\begin{tabular}{r|llllllll}\n",
       "  & context & anger & disgust & fear & happy & sad & surprised & neutral\\\\\n",
       "  & <chr> & <dbl> & <dbl> & <dbl> & <dbl> & <dbl> & <dbl> & <dbl>\\\\\n",
       "\\hline\n",
       "\t1 & context1 & 18.18182 & 0 & 0 & 12.12121 & 66.66667 & 0 &   3.030303\\\\\n",
       "\t2 & context2 & 90.00000 & 0 & 0 &  0.00000 & 10.00000 & 0 &   0.000000\\\\\n",
       "\t3 & context3 &  0.00000 & 0 & 0 &  0.00000 &  0.00000 & 0 & 100.000000\\\\\n",
       "\\end{tabular}\n"
      ],
      "text/markdown": [
       "\n",
       "A data.frame: 3 × 8\n",
       "\n",
       "| <!--/--> | context &lt;chr&gt; | anger &lt;dbl&gt; | disgust &lt;dbl&gt; | fear &lt;dbl&gt; | happy &lt;dbl&gt; | sad &lt;dbl&gt; | surprised &lt;dbl&gt; | neutral &lt;dbl&gt; |\n",
       "|---|---|---|---|---|---|---|---|---|\n",
       "| 1 | context1 | 18.18182 | 0 | 0 | 12.12121 | 66.66667 | 0 |   3.030303 |\n",
       "| 2 | context2 | 90.00000 | 0 | 0 |  0.00000 | 10.00000 | 0 |   0.000000 |\n",
       "| 3 | context3 |  0.00000 | 0 | 0 |  0.00000 |  0.00000 | 0 | 100.000000 |\n",
       "\n"
      ],
      "text/plain": [
       "  context  anger    disgust fear happy    sad      surprised neutral   \n",
       "1 context1 18.18182 0       0    12.12121 66.66667 0           3.030303\n",
       "2 context2 90.00000 0       0     0.00000 10.00000 0           0.000000\n",
       "3 context3  0.00000 0       0     0.00000  0.00000 0         100.000000"
      ]
     },
     "metadata": {},
     "output_type": "display_data"
    },
    {
     "name": "stderr",
     "output_type": "stream",
     "text": [
      "Warning message:\n",
      "\"\u001b[1m\u001b[22mUsing `size` aesthetic for lines was deprecated in ggplot2 3.4.0.\n",
      "\u001b[36mi\u001b[39m Please use `linewidth` instead.\"\n",
      "Warning message:\n",
      "\"\u001b[1m\u001b[22mRemoved 12 rows containing missing values (`position_stack()`).\"\n",
      "Warning message:\n",
      "\"\u001b[1m\u001b[22mRemoved 13 rows containing missing values (`geom_text()`).\"\n",
      "Warning message:\n",
      "\"\u001b[1m\u001b[22mRemoved 12 rows containing missing values (`position_stack()`).\"\n",
      "Warning message:\n",
      "\"\u001b[1m\u001b[22mRemoved 13 rows containing missing values (`geom_text()`).\"\n"
     ]
    },
    {
     "data": {
      "text/html": [
       "<strong>png:</strong> 2"
      ],
      "text/latex": [
       "\\textbf{png:} 2"
      ],
      "text/markdown": [
       "**png:** 2"
      ],
      "text/plain": [
       "png \n",
       "  2 "
      ]
     },
     "metadata": {},
     "output_type": "display_data"
    },
    {
     "data": {
      "image/png": "[encoded data removed]",
      "text/plain": [
       "plot without title"
      ]
     },
     "metadata": {
      "image/png": {
       "height": 900,
       "width": 900
      }
     },
     "output_type": "display_data"
    }
   ],
   "source": [
    "child1 = read.xlsx('Character_Context.xlsx',sheet='Raju')\n",
    "colnames(child1)[1] <- c(\"context\")\n",
    "child1\n",
    "plot(child1)\n",
    "png(\"output_graph/Raju.png\", bg=\"transparent\",\n",
    "    family = 'sans',units='in',width=10,height=10,res=150)\n",
    "plot(child1)\n",
    "dev.off()"
   ]
  }
 ],
 "metadata": {
  "kernelspec": {
   "display_name": "R",
   "language": "R",
   "name": "ir"
  },
  "language_info": {
   "codemirror_mode": "r",
   "file_extension": ".r",
   "mimetype": "text/x-r-source",
   "name": "R",
   "pygments_lexer": "r",
   "version": "4.1.2"
  },
  "latex_envs": {
   "LaTeX_envs_menu_present": true,
   "autoclose": false,
   "autocomplete": true,
   "bibliofile": "biblio.bib",
   "cite_by": "apalike",
   "current_citInitial": 1,
   "eqLabelWithNumbers": true,
   "eqNumInitial": 1,
   "hotkeys": {
    "equation": "Ctrl-E",
    "itemize": "Ctrl-I"
   },
   "labels_anchors": false,
   "latex_user_defs": false,
   "report_style_numbering": false,
   "user_envs_cfg": false
  },
  "toc": {
   "base_numbering": 1,
   "nav_menu": {},
   "number_sections": true,
   "sideBar": true,
   "skip_h1_title": false,
   "title_cell": "Table of Contents",
   "title_sidebar": "Contents",
   "toc_cell": false,
   "toc_position": {},
   "toc_section_display": true,
   "toc_window_display": false
  }
 },
 "nbformat": 4,
 "nbformat_minor": 5
}
