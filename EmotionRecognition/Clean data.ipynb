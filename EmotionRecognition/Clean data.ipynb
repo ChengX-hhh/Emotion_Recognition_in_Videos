{
 "cells": [
  {
   "cell_type": "code",
   "execution_count": 1,
   "id": "8a63d393",
   "metadata": {
    "ExecuteTime": {
     "end_time": "2023-04-18T06:51:18.783752Z",
     "start_time": "2023-04-18T06:51:18.425988Z"
    }
   },
   "outputs": [],
   "source": [
    "import pandas as pd\n",
    "import os \n",
    "import glob\n",
    "import re\n",
    "import numpy as np"
   ]
  },
  {
   "cell_type": "code",
   "execution_count": 30,
   "id": "aac6bbda",
   "metadata": {
    "ExecuteTime": {
     "end_time": "2023-04-18T07:46:30.368697Z",
     "start_time": "2023-04-18T07:46:30.250547Z"
    }
   },
   "outputs": [
    {
     "data": {
      "text/plain": [
       "['Data_results/Raju']"
      ]
     },
     "execution_count": 30,
     "metadata": {},
     "output_type": "execute_result"
    }
   ],
   "source": [
    "character = os.listdir('Data_results/')\n",
    "character = ['Data_results/' + file for file in character]\n",
    "character"
   ]
  },
  {
   "cell_type": "code",
   "execution_count": 31,
   "id": "f25233c7",
   "metadata": {
    "ExecuteTime": {
     "end_time": "2023-04-18T07:46:34.268589Z",
     "start_time": "2023-04-18T07:46:34.031414Z"
    }
   },
   "outputs": [],
   "source": [
    "result_dict = {}\n",
    "contexts_all = []\n",
    "for character_file in character:\n",
    "    files = glob.glob(character_file+'/*.csv')\n",
    "    character = character_file.split('/')[1]\n",
    "    contexts = [re.findall(r'(?<=_)[^_]*(?=\\.[^.]+$)',file)[0].lower() for file in files]\n",
    "    \n",
    "    # 场景×情绪\n",
    "    result_df = pd.DataFrame(index = contexts,\n",
    "                    columns = ['anger','disgust', 'fear', 'happy', 'sad',\n",
    "                      'surprised','neutral'])\n",
    "    \n",
    "    for file in files:\n",
    "        # 提取场景\n",
    "        context = re.findall(r'(?<=_)[^_]*(?=\\.[^.]+$)',file)[0].lower()\n",
    "        contexts_all.append(context)\n",
    "        \n",
    "        raw = pd.read_csv(file,index_col=0)\n",
    "        raw = raw.dropna()\n",
    "        table = raw.groupby('name')['emotion'].value_counts().unstack(fill_value=0)\n",
    "        \n",
    "        for emo in table.columns:\n",
    "            result_df.loc[context,emo] = table.loc[character,emo]\n",
    "    \n",
    "    result_df = result_df.apply(lambda row: row/row.sum()*100, axis=1)\n",
    "    result_df = result_df.fillna(0)\n",
    "    result_dict[character] = result_df"
   ]
  },
  {
   "cell_type": "code",
   "execution_count": 32,
   "id": "38b6072d",
   "metadata": {
    "ExecuteTime": {
     "end_time": "2023-04-18T07:46:36.447711Z",
     "start_time": "2023-04-18T07:46:36.429866Z"
    }
   },
   "outputs": [
    {
     "data": {
      "text/html": [
       "<div>\n",
       "<style scoped>\n",
       "    .dataframe tbody tr th:only-of-type {\n",
       "        vertical-align: middle;\n",
       "    }\n",
       "\n",
       "    .dataframe tbody tr th {\n",
       "        vertical-align: top;\n",
       "    }\n",
       "\n",
       "    .dataframe thead th {\n",
       "        text-align: right;\n",
       "    }\n",
       "</style>\n",
       "<table border=\"1\" class=\"dataframe\">\n",
       "  <thead>\n",
       "    <tr style=\"text-align: right;\">\n",
       "      <th></th>\n",
       "      <th>anger</th>\n",
       "      <th>disgust</th>\n",
       "      <th>fear</th>\n",
       "      <th>happy</th>\n",
       "      <th>sad</th>\n",
       "      <th>surprised</th>\n",
       "      <th>neutral</th>\n",
       "    </tr>\n",
       "  </thead>\n",
       "  <tbody>\n",
       "    <tr>\n",
       "      <th>context1</th>\n",
       "      <td>18.181818</td>\n",
       "      <td>0.0</td>\n",
       "      <td>0.0</td>\n",
       "      <td>12.121212</td>\n",
       "      <td>66.666667</td>\n",
       "      <td>0.0</td>\n",
       "      <td>3.030303</td>\n",
       "    </tr>\n",
       "    <tr>\n",
       "      <th>context2</th>\n",
       "      <td>90.000000</td>\n",
       "      <td>0.0</td>\n",
       "      <td>0.0</td>\n",
       "      <td>0.000000</td>\n",
       "      <td>10.000000</td>\n",
       "      <td>0.0</td>\n",
       "      <td>0.000000</td>\n",
       "    </tr>\n",
       "    <tr>\n",
       "      <th>context3</th>\n",
       "      <td>0.000000</td>\n",
       "      <td>0.0</td>\n",
       "      <td>0.0</td>\n",
       "      <td>0.000000</td>\n",
       "      <td>0.000000</td>\n",
       "      <td>0.0</td>\n",
       "      <td>100.000000</td>\n",
       "    </tr>\n",
       "  </tbody>\n",
       "</table>\n",
       "</div>"
      ],
      "text/plain": [
       "              anger  disgust  fear      happy        sad  surprised  \\\n",
       "context1  18.181818      0.0   0.0  12.121212  66.666667        0.0   \n",
       "context2  90.000000      0.0   0.0   0.000000  10.000000        0.0   \n",
       "context3   0.000000      0.0   0.0   0.000000   0.000000        0.0   \n",
       "\n",
       "             neutral  \n",
       "context1    3.030303  \n",
       "context2    0.000000  \n",
       "context3  100.000000  "
      ]
     },
     "execution_count": 32,
     "metadata": {},
     "output_type": "execute_result"
    }
   ],
   "source": [
    "result_df"
   ]
  },
  {
   "cell_type": "code",
   "execution_count": 33,
   "id": "973e7298",
   "metadata": {
    "ExecuteTime": {
     "end_time": "2023-04-18T07:47:46.102327Z",
     "start_time": "2023-04-18T07:47:45.955080Z"
    }
   },
   "outputs": [],
   "source": [
    "with pd.ExcelWriter('Character_Context.xlsx') as writer:\n",
    "    for child in result_dict.keys():\n",
    "        result_dict[character].to_excel(writer, sheet_name = character)"
   ]
  },
  {
   "cell_type": "code",
   "execution_count": 34,
   "id": "58451bc1",
   "metadata": {
    "ExecuteTime": {
     "end_time": "2023-04-18T07:47:47.615095Z",
     "start_time": "2023-04-18T07:47:47.608233Z"
    }
   },
   "outputs": [
    {
     "data": {
      "text/plain": [
       "{'context1', 'context2', 'context3'}"
      ]
     },
     "execution_count": 34,
     "metadata": {},
     "output_type": "execute_result"
    }
   ],
   "source": [
    "set(contexts_all)"
   ]
  }
 ],
 "metadata": {
  "kernelspec": {
   "display_name": "Python 3",
   "language": "python",
   "name": "python3"
  },
  "language_info": {
   "codemirror_mode": {
    "name": "ipython",
    "version": 3
   },
   "file_extension": ".py",
   "mimetype": "text/x-python",
   "name": "python",
   "nbconvert_exporter": "python",
   "pygments_lexer": "ipython3",
   "version": "3.9.12"
  },
  "latex_envs": {
   "LaTeX_envs_menu_present": true,
   "autoclose": false,
   "autocomplete": true,
   "bibliofile": "biblio.bib",
   "cite_by": "apalike",
   "current_citInitial": 1,
   "eqLabelWithNumbers": true,
   "eqNumInitial": 1,
   "hotkeys": {
    "equation": "Ctrl-E",
    "itemize": "Ctrl-I"
   },
   "labels_anchors": false,
   "latex_user_defs": false,
   "report_style_numbering": false,
   "user_envs_cfg": false
  },
  "toc": {
   "base_numbering": 1,
   "nav_menu": {},
   "number_sections": true,
   "sideBar": true,
   "skip_h1_title": false,
   "title_cell": "Table of Contents",
   "title_sidebar": "Contents",
   "toc_cell": false,
   "toc_position": {},
   "toc_section_display": true,
   "toc_window_display": false
  }
 },
 "nbformat": 4,
 "nbformat_minor": 5
}
