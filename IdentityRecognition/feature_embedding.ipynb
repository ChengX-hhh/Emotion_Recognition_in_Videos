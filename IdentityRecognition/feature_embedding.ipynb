{
 "cells": [
  {
   "cell_type": "code",
   "execution_count": 1,
   "id": "2a3f9f1c",
   "metadata": {
    "ExecuteTime": {
     "end_time": "2023-04-18T05:36:33.925925Z",
     "start_time": "2023-04-18T05:36:30.758601Z"
    }
   },
   "outputs": [
    {
     "name": "stderr",
     "output_type": "stream",
     "text": [
      "/home/chengxi/.conda/envs/test_env/lib/python3.7/site-packages/tqdm/auto.py:22: TqdmWarning: IProgress not found. Please update jupyter and ipywidgets. See https://ipywidgets.readthedocs.io/en/stable/user_install.html\n",
      "  from .autonotebook import tqdm as notebook_tqdm\n"
     ]
    }
   ],
   "source": [
    "from facenet_pytorch import MTCNN, InceptionResnetV1\n",
    "import torch\n",
    "from torch.utils.data import DataLoader\n",
    "from torchvision import datasets\n",
    "import numpy as np\n",
    "import pandas as pd\n",
    "import os\n",
    "\n",
    "workers = 0 if os.name == 'nt' else 4"
   ]
  },
  {
   "cell_type": "markdown",
   "id": "3945adc0",
   "metadata": {},
   "source": [
    "# Feature embedding"
   ]
  },
  {
   "cell_type": "code",
   "execution_count": 2,
   "id": "a635a00e",
   "metadata": {
    "ExecuteTime": {
     "end_time": "2023-04-18T05:36:40.773611Z",
     "start_time": "2023-04-18T05:36:37.465399Z"
    }
   },
   "outputs": [
    {
     "name": "stdout",
     "output_type": "stream",
     "text": [
      "Running on device: cuda:0\n"
     ]
    }
   ],
   "source": [
    "device = torch.device('cuda:0' if torch.cuda.is_available() else 'cpu')\n",
    "print('Running on device: {}'.format(device))\n",
    "\n",
    "mtcnn = MTCNN(\n",
    "    image_size=160, margin=0, min_face_size=20,\n",
    "    thresholds=[0.6, 0.7, 0.7], factor=0.709, post_process=True,\n",
    "    device=device\n",
    ")\n",
    "\n",
    "resnet = InceptionResnetV1(pretrained='vggface2').eval().to(device)"
   ]
  },
  {
   "cell_type": "code",
   "execution_count": 3,
   "id": "db8034be",
   "metadata": {
    "ExecuteTime": {
     "end_time": "2023-04-18T05:36:45.672669Z",
     "start_time": "2023-04-18T05:36:42.504756Z"
    }
   },
   "outputs": [
    {
     "name": "stdout",
     "output_type": "stream",
     "text": [
      "Face detected with probability: 0.999990\n",
      "Face detected with probability: 1.000000\n",
      "Face detected with probability: 0.999880\n",
      "Face detected with probability: 1.000000\n",
      "Face detected with probability: 1.000000\n",
      "Face detected with probability: 0.999995\n"
     ]
    }
   ],
   "source": [
    "def collate_fn(x):\n",
    "    return x[0]\n",
    "\n",
    "dataset = datasets.ImageFolder('train/')\n",
    "dataset.idx_to_class = {i:c for c, i in dataset.class_to_idx.items()}\n",
    "loader = DataLoader(dataset, collate_fn=collate_fn, num_workers=workers)\n",
    "\n",
    "aligned = []\n",
    "names = []\n",
    "for x, y in loader:\n",
    "    x_aligned, prob = mtcnn(x, return_prob=True)\n",
    "    if x_aligned is not None:\n",
    "        print('Face detected with probability: {:8f}'.format(prob))\n",
    "        aligned.append(x_aligned)\n",
    "        names.append(dataset.idx_to_class[y])"
   ]
  },
  {
   "cell_type": "code",
   "execution_count": 4,
   "id": "1eececae",
   "metadata": {
    "ExecuteTime": {
     "end_time": "2023-04-18T05:36:48.425770Z",
     "start_time": "2023-04-18T05:36:48.361368Z"
    }
   },
   "outputs": [
    {
     "data": {
      "text/plain": [
       "torch.Size([6, 512])"
      ]
     },
     "execution_count": 4,
     "metadata": {},
     "output_type": "execute_result"
    }
   ],
   "source": [
    "aligned = torch.stack(aligned).to(device)\n",
    "embeddings = resnet(aligned).detach().cpu()\n",
    "embeddings.shape"
   ]
  },
  {
   "cell_type": "code",
   "execution_count": 5,
   "id": "03a04f24",
   "metadata": {
    "ExecuteTime": {
     "end_time": "2023-04-18T05:36:53.111670Z",
     "start_time": "2023-04-18T05:36:53.088485Z"
    }
   },
   "outputs": [],
   "source": [
    "torch.save(embeddings, 'embeddings.pt')"
   ]
  },
  {
   "cell_type": "code",
   "execution_count": 6,
   "id": "e217f9f0",
   "metadata": {
    "ExecuteTime": {
     "end_time": "2023-04-18T05:36:56.404498Z",
     "start_time": "2023-04-18T05:36:56.374280Z"
    }
   },
   "outputs": [
    {
     "name": "stdout",
     "output_type": "stream",
     "text": [
      "          Chatur      Dean    Farhan       Joy      Raju    Rancho\n",
      "Chatur  0.000000  1.096706  1.005982  1.253124  1.331800  1.311198\n",
      "Dean    1.096706  0.000000  1.149511  1.343693  1.393365  1.386932\n",
      "Farhan  1.005982  1.149511  0.000000  1.174776  1.288747  1.210451\n",
      "Joy     1.253124  1.343693  1.174776  0.000000  1.082909  1.194725\n",
      "Raju    1.331800  1.393365  1.288747  1.082909  0.000000  1.352694\n",
      "Rancho  1.311198  1.386932  1.210451  1.194725  1.352694  0.000000\n"
     ]
    }
   ],
   "source": [
    "dists = [[(e1 - e2).norm().item() for e2 in embeddings] for e1 in embeddings]\n",
    "print(pd.DataFrame(dists, columns=names, index=names))"
   ]
  },
  {
   "cell_type": "code",
   "execution_count": 7,
   "id": "9481a77c",
   "metadata": {
    "ExecuteTime": {
     "end_time": "2023-04-18T05:37:00.466479Z",
     "start_time": "2023-04-18T05:37:00.378778Z"
    }
   },
   "outputs": [
    {
     "data": {
      "text/html": [
       "<div>\n",
       "<style scoped>\n",
       "    .dataframe tbody tr th:only-of-type {\n",
       "        vertical-align: middle;\n",
       "    }\n",
       "\n",
       "    .dataframe tbody tr th {\n",
       "        vertical-align: top;\n",
       "    }\n",
       "\n",
       "    .dataframe thead th {\n",
       "        text-align: right;\n",
       "    }\n",
       "</style>\n",
       "<table border=\"1\" class=\"dataframe\">\n",
       "  <thead>\n",
       "    <tr style=\"text-align: right;\">\n",
       "      <th></th>\n",
       "      <th>0</th>\n",
       "      <th>1</th>\n",
       "      <th>2</th>\n",
       "      <th>3</th>\n",
       "      <th>4</th>\n",
       "      <th>5</th>\n",
       "      <th>6</th>\n",
       "      <th>7</th>\n",
       "      <th>8</th>\n",
       "      <th>9</th>\n",
       "      <th>...</th>\n",
       "      <th>502</th>\n",
       "      <th>503</th>\n",
       "      <th>504</th>\n",
       "      <th>505</th>\n",
       "      <th>506</th>\n",
       "      <th>507</th>\n",
       "      <th>508</th>\n",
       "      <th>509</th>\n",
       "      <th>510</th>\n",
       "      <th>511</th>\n",
       "    </tr>\n",
       "  </thead>\n",
       "  <tbody>\n",
       "    <tr>\n",
       "      <th>0</th>\n",
       "      <td>tensor(0.0347)</td>\n",
       "      <td>tensor(0.0242)</td>\n",
       "      <td>tensor(0.0113)</td>\n",
       "      <td>tensor(-0.0110)</td>\n",
       "      <td>tensor(-0.0334)</td>\n",
       "      <td>tensor(0.0592)</td>\n",
       "      <td>tensor(0.0666)</td>\n",
       "      <td>tensor(-0.0781)</td>\n",
       "      <td>tensor(0.0656)</td>\n",
       "      <td>tensor(0.0542)</td>\n",
       "      <td>...</td>\n",
       "      <td>tensor(0.0515)</td>\n",
       "      <td>tensor(-0.0186)</td>\n",
       "      <td>tensor(-0.0244)</td>\n",
       "      <td>tensor(-0.0855)</td>\n",
       "      <td>tensor(-0.0201)</td>\n",
       "      <td>tensor(-0.0033)</td>\n",
       "      <td>tensor(0.0445)</td>\n",
       "      <td>tensor(0.0218)</td>\n",
       "      <td>tensor(-0.0355)</td>\n",
       "      <td>tensor(0.0971)</td>\n",
       "    </tr>\n",
       "    <tr>\n",
       "      <th>1</th>\n",
       "      <td>tensor(0.0097)</td>\n",
       "      <td>tensor(-0.0219)</td>\n",
       "      <td>tensor(0.0148)</td>\n",
       "      <td>tensor(0.0171)</td>\n",
       "      <td>tensor(-0.0354)</td>\n",
       "      <td>tensor(0.0314)</td>\n",
       "      <td>tensor(-0.0114)</td>\n",
       "      <td>tensor(-0.0421)</td>\n",
       "      <td>tensor(0.0292)</td>\n",
       "      <td>tensor(0.0086)</td>\n",
       "      <td>...</td>\n",
       "      <td>tensor(-0.0530)</td>\n",
       "      <td>tensor(0.0100)</td>\n",
       "      <td>tensor(-0.0142)</td>\n",
       "      <td>tensor(-0.0170)</td>\n",
       "      <td>tensor(-0.0419)</td>\n",
       "      <td>tensor(-0.0250)</td>\n",
       "      <td>tensor(-0.0203)</td>\n",
       "      <td>tensor(-0.0651)</td>\n",
       "      <td>tensor(-0.0349)</td>\n",
       "      <td>tensor(0.0235)</td>\n",
       "    </tr>\n",
       "    <tr>\n",
       "      <th>2</th>\n",
       "      <td>tensor(-0.0529)</td>\n",
       "      <td>tensor(0.0140)</td>\n",
       "      <td>tensor(-0.0694)</td>\n",
       "      <td>tensor(-0.0185)</td>\n",
       "      <td>tensor(-0.0037)</td>\n",
       "      <td>tensor(0.0047)</td>\n",
       "      <td>tensor(0.0746)</td>\n",
       "      <td>tensor(-0.0315)</td>\n",
       "      <td>tensor(0.0595)</td>\n",
       "      <td>tensor(0.0440)</td>\n",
       "      <td>...</td>\n",
       "      <td>tensor(0.0565)</td>\n",
       "      <td>tensor(0.0245)</td>\n",
       "      <td>tensor(-0.0148)</td>\n",
       "      <td>tensor(-0.0425)</td>\n",
       "      <td>tensor(-0.0282)</td>\n",
       "      <td>tensor(-0.0019)</td>\n",
       "      <td>tensor(0.0562)</td>\n",
       "      <td>tensor(-0.0208)</td>\n",
       "      <td>tensor(-0.0744)</td>\n",
       "      <td>tensor(0.0357)</td>\n",
       "    </tr>\n",
       "    <tr>\n",
       "      <th>3</th>\n",
       "      <td>tensor(-0.0307)</td>\n",
       "      <td>tensor(0.0023)</td>\n",
       "      <td>tensor(-0.0885)</td>\n",
       "      <td>tensor(-0.0496)</td>\n",
       "      <td>tensor(-0.0288)</td>\n",
       "      <td>tensor(-0.0226)</td>\n",
       "      <td>tensor(0.0637)</td>\n",
       "      <td>tensor(0.0389)</td>\n",
       "      <td>tensor(-0.0533)</td>\n",
       "      <td>tensor(0.0127)</td>\n",
       "      <td>...</td>\n",
       "      <td>tensor(0.0711)</td>\n",
       "      <td>tensor(-0.0171)</td>\n",
       "      <td>tensor(-0.0136)</td>\n",
       "      <td>tensor(0.0020)</td>\n",
       "      <td>tensor(0.0102)</td>\n",
       "      <td>tensor(0.0714)</td>\n",
       "      <td>tensor(0.0216)</td>\n",
       "      <td>tensor(-0.0883)</td>\n",
       "      <td>tensor(-0.0284)</td>\n",
       "      <td>tensor(0.0274)</td>\n",
       "    </tr>\n",
       "    <tr>\n",
       "      <th>4</th>\n",
       "      <td>tensor(0.0014)</td>\n",
       "      <td>tensor(0.0270)</td>\n",
       "      <td>tensor(-0.0280)</td>\n",
       "      <td>tensor(0.0157)</td>\n",
       "      <td>tensor(-0.0276)</td>\n",
       "      <td>tensor(0.0820)</td>\n",
       "      <td>tensor(0.0263)</td>\n",
       "      <td>tensor(0.0308)</td>\n",
       "      <td>tensor(-0.1013)</td>\n",
       "      <td>tensor(0.0526)</td>\n",
       "      <td>...</td>\n",
       "      <td>tensor(0.0726)</td>\n",
       "      <td>tensor(-0.0774)</td>\n",
       "      <td>tensor(-0.0669)</td>\n",
       "      <td>tensor(-0.0025)</td>\n",
       "      <td>tensor(-0.0197)</td>\n",
       "      <td>tensor(0.0257)</td>\n",
       "      <td>tensor(-0.0319)</td>\n",
       "      <td>tensor(-0.0278)</td>\n",
       "      <td>tensor(-0.0130)</td>\n",
       "      <td>tensor(0.0322)</td>\n",
       "    </tr>\n",
       "    <tr>\n",
       "      <th>5</th>\n",
       "      <td>tensor(-0.0638)</td>\n",
       "      <td>tensor(-0.0488)</td>\n",
       "      <td>tensor(-0.0695)</td>\n",
       "      <td>tensor(-0.0442)</td>\n",
       "      <td>tensor(0.0529)</td>\n",
       "      <td>tensor(0.0719)</td>\n",
       "      <td>tensor(0.0591)</td>\n",
       "      <td>tensor(0.0174)</td>\n",
       "      <td>tensor(0.0107)</td>\n",
       "      <td>tensor(0.0643)</td>\n",
       "      <td>...</td>\n",
       "      <td>tensor(0.0010)</td>\n",
       "      <td>tensor(-0.0012)</td>\n",
       "      <td>tensor(0.0351)</td>\n",
       "      <td>tensor(-0.0877)</td>\n",
       "      <td>tensor(-0.0374)</td>\n",
       "      <td>tensor(0.0178)</td>\n",
       "      <td>tensor(0.0683)</td>\n",
       "      <td>tensor(-0.0014)</td>\n",
       "      <td>tensor(-0.0956)</td>\n",
       "      <td>tensor(0.0124)</td>\n",
       "    </tr>\n",
       "  </tbody>\n",
       "</table>\n",
       "<p>6 rows × 512 columns</p>\n",
       "</div>"
      ],
      "text/plain": [
       "               0                1                2                3    \\\n",
       "0   tensor(0.0347)   tensor(0.0242)   tensor(0.0113)  tensor(-0.0110)   \n",
       "1   tensor(0.0097)  tensor(-0.0219)   tensor(0.0148)   tensor(0.0171)   \n",
       "2  tensor(-0.0529)   tensor(0.0140)  tensor(-0.0694)  tensor(-0.0185)   \n",
       "3  tensor(-0.0307)   tensor(0.0023)  tensor(-0.0885)  tensor(-0.0496)   \n",
       "4   tensor(0.0014)   tensor(0.0270)  tensor(-0.0280)   tensor(0.0157)   \n",
       "5  tensor(-0.0638)  tensor(-0.0488)  tensor(-0.0695)  tensor(-0.0442)   \n",
       "\n",
       "               4                5                6                7    \\\n",
       "0  tensor(-0.0334)   tensor(0.0592)   tensor(0.0666)  tensor(-0.0781)   \n",
       "1  tensor(-0.0354)   tensor(0.0314)  tensor(-0.0114)  tensor(-0.0421)   \n",
       "2  tensor(-0.0037)   tensor(0.0047)   tensor(0.0746)  tensor(-0.0315)   \n",
       "3  tensor(-0.0288)  tensor(-0.0226)   tensor(0.0637)   tensor(0.0389)   \n",
       "4  tensor(-0.0276)   tensor(0.0820)   tensor(0.0263)   tensor(0.0308)   \n",
       "5   tensor(0.0529)   tensor(0.0719)   tensor(0.0591)   tensor(0.0174)   \n",
       "\n",
       "               8               9    ...              502              503  \\\n",
       "0   tensor(0.0656)  tensor(0.0542)  ...   tensor(0.0515)  tensor(-0.0186)   \n",
       "1   tensor(0.0292)  tensor(0.0086)  ...  tensor(-0.0530)   tensor(0.0100)   \n",
       "2   tensor(0.0595)  tensor(0.0440)  ...   tensor(0.0565)   tensor(0.0245)   \n",
       "3  tensor(-0.0533)  tensor(0.0127)  ...   tensor(0.0711)  tensor(-0.0171)   \n",
       "4  tensor(-0.1013)  tensor(0.0526)  ...   tensor(0.0726)  tensor(-0.0774)   \n",
       "5   tensor(0.0107)  tensor(0.0643)  ...   tensor(0.0010)  tensor(-0.0012)   \n",
       "\n",
       "               504              505              506              507  \\\n",
       "0  tensor(-0.0244)  tensor(-0.0855)  tensor(-0.0201)  tensor(-0.0033)   \n",
       "1  tensor(-0.0142)  tensor(-0.0170)  tensor(-0.0419)  tensor(-0.0250)   \n",
       "2  tensor(-0.0148)  tensor(-0.0425)  tensor(-0.0282)  tensor(-0.0019)   \n",
       "3  tensor(-0.0136)   tensor(0.0020)   tensor(0.0102)   tensor(0.0714)   \n",
       "4  tensor(-0.0669)  tensor(-0.0025)  tensor(-0.0197)   tensor(0.0257)   \n",
       "5   tensor(0.0351)  tensor(-0.0877)  tensor(-0.0374)   tensor(0.0178)   \n",
       "\n",
       "               508              509              510             511  \n",
       "0   tensor(0.0445)   tensor(0.0218)  tensor(-0.0355)  tensor(0.0971)  \n",
       "1  tensor(-0.0203)  tensor(-0.0651)  tensor(-0.0349)  tensor(0.0235)  \n",
       "2   tensor(0.0562)  tensor(-0.0208)  tensor(-0.0744)  tensor(0.0357)  \n",
       "3   tensor(0.0216)  tensor(-0.0883)  tensor(-0.0284)  tensor(0.0274)  \n",
       "4  tensor(-0.0319)  tensor(-0.0278)  tensor(-0.0130)  tensor(0.0322)  \n",
       "5   tensor(0.0683)  tensor(-0.0014)  tensor(-0.0956)  tensor(0.0124)  \n",
       "\n",
       "[6 rows x 512 columns]"
      ]
     },
     "execution_count": 7,
     "metadata": {},
     "output_type": "execute_result"
    }
   ],
   "source": [
    "embedding_feature = pd.DataFrame(embeddings)\n",
    "embedding_feature"
   ]
  },
  {
   "cell_type": "markdown",
   "id": "0adab28a",
   "metadata": {},
   "source": [
    "# Test new image"
   ]
  },
  {
   "cell_type": "code",
   "execution_count": 8,
   "id": "13f948b2",
   "metadata": {
    "ExecuteTime": {
     "end_time": "2023-04-18T05:37:04.942855Z",
     "start_time": "2023-04-18T05:37:04.937511Z"
    }
   },
   "outputs": [],
   "source": [
    "from PIL import Image\n",
    "import glob"
   ]
  },
  {
   "cell_type": "code",
   "execution_count": 9,
   "id": "bc9f7e58",
   "metadata": {
    "ExecuteTime": {
     "end_time": "2023-04-18T05:37:06.765510Z",
     "start_time": "2023-04-18T05:37:06.749269Z"
    }
   },
   "outputs": [
    {
     "data": {
      "text/plain": [
       "['Chatur', 'Dean', 'Farhan', 'Joy', 'Raju', 'Rancho']"
      ]
     },
     "execution_count": 9,
     "metadata": {},
     "output_type": "execute_result"
    }
   ],
   "source": [
    "test_list = os.listdir('test/')\n",
    "test_list = sorted(test_list)\n",
    "test_list"
   ]
  },
  {
   "cell_type": "code",
   "execution_count": 10,
   "id": "1e1c4d80",
   "metadata": {
    "ExecuteTime": {
     "end_time": "2023-04-18T05:37:10.564518Z",
     "start_time": "2023-04-18T05:37:09.875945Z"
    }
   },
   "outputs": [],
   "source": [
    "accuracy = {}\n",
    "for test_file in test_list:\n",
    "    test_results = []\n",
    "    img_files = glob.glob('test/'+test_file+'/*.png')\n",
    "    for img_file in img_files:\n",
    "        img = Image.open(img_file)\n",
    "        img_cropped = mtcnn(img)\n",
    "        if img_cropped is not None:\n",
    "            img_cropped = img_cropped.to(device) # transfor to cuda\n",
    "        else:\n",
    "            break\n",
    "        img_embedding = resnet(img_cropped.unsqueeze(0)).detach().cpu() # transfor to cpu\n",
    "        dists = [(img_embedding - e1).norm().item() for e1 in embeddings]\n",
    "        test_results.append(dists.index(min(dists))+1)\n",
    "        \n",
    "    accuracy[test_file] = test_results"
   ]
  },
  {
   "cell_type": "code",
   "execution_count": 11,
   "id": "8e103bd4",
   "metadata": {
    "ExecuteTime": {
     "end_time": "2023-04-18T05:37:11.890361Z",
     "start_time": "2023-04-18T05:37:11.881835Z"
    }
   },
   "outputs": [
    {
     "data": {
      "text/plain": [
       "{'Chatur': [1],\n",
       " 'Dean': [2, 2],\n",
       " 'Farhan': [3],\n",
       " 'Joy': [4, 4],\n",
       " 'Raju': [5],\n",
       " 'Rancho': [6, 6]}"
      ]
     },
     "execution_count": 11,
     "metadata": {},
     "output_type": "execute_result"
    }
   ],
   "source": [
    "accuracy"
   ]
  },
  {
   "cell_type": "code",
   "execution_count": 12,
   "id": "00a7c0f0",
   "metadata": {
    "ExecuteTime": {
     "end_time": "2023-04-18T05:37:26.064037Z",
     "start_time": "2023-04-18T05:37:26.031325Z"
    }
   },
   "outputs": [],
   "source": [
    "k = list(accuracy.keys())\n",
    "v = list(accuracy.values())\n",
    "df = pd.DataFrame(list(zip(k,v)),columns=['target','accuracy'])\n",
    "df.to_csv('accuracy.csv')"
   ]
  }
 ],
 "metadata": {
  "kernelspec": {
   "display_name": "mypytorch",
   "language": "python",
   "name": "mypytorch"
  },
  "language_info": {
   "codemirror_mode": {
    "name": "ipython",
    "version": 3
   },
   "file_extension": ".py",
   "mimetype": "text/x-python",
   "name": "python",
   "nbconvert_exporter": "python",
   "pygments_lexer": "ipython3",
   "version": "3.7.13"
  },
  "toc": {
   "base_numbering": 1,
   "nav_menu": {},
   "number_sections": true,
   "sideBar": true,
   "skip_h1_title": false,
   "title_cell": "Table of Contents",
   "title_sidebar": "Contents",
   "toc_cell": false,
   "toc_position": {},
   "toc_section_display": true,
   "toc_window_display": false
  }
 },
 "nbformat": 4,
 "nbformat_minor": 5
}
